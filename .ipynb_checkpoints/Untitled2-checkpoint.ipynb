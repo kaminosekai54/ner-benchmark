{
 "cells": [
  {
   "cell_type": "code",
   "execution_count": 21,
   "id": "b067fafb",
   "metadata": {},
   "outputs": [],
   "source": [
    "import pandas as pd\n",
    "import time, os\n",
    "from usefull import correctLabels\n",
    "from usefull import plot_metrics\n",
    "import seaborn as sns\n",
    "import matplotlib.pyplot as plt"
   ]
  },
  {
   "cell_type": "code",
   "execution_count": 11,
   "id": "162635e8",
   "metadata": {},
   "outputs": [],
   "source": [
    "def correctLabels(datasetName, modelName):\n",
    "    df1 = readDatasetWithSentenceId(datasetName, \"test\")\n",
    "    df2 = pd.read_csv(f'results/{datasetName}/{datasetName}_{modelName }_predictions.csv')\n",
    "    df1.labels= df1.labels.str.replace(\"I-\", \"\").str.replace(\"B-\", \"\")\n",
    "    df2.labels= df2.labels.str.replace(\"I-\", \"\").str.replace(\"B-\", \"\")\n",
    "    custom_labels = list(set(list(df1.labels.unique()) + list(df2.labels.unique())))\n",
    "    report = classification_report(df1.labels, df2.labels, labels=custom_labels, target_names=custom_labels, output_dict=True)\n",
    "    data = {\n",
    "        \"modelName\": [modelName ],\n",
    "        \"datasetName\": [datasetName],\n",
    "        \"accuracy_global\": [round(report['weighted avg']['precision']*100, 2)],\n",
    "        \"recall_global\": [round(report['weighted avg']['recall']*100, 2)],\n",
    "        \"f1_score_global\": [round(report['weighted avg']['f1-score'] *100, 2)]\n",
    "    }\n",
    "    for label in custom_labels:\n",
    "        data[f\"accuracy_{label}\"] = [round(report[label]['precision']*100, 2)]\n",
    "        data[f\"recall_{label}\"] = [round(report[label]['recall']*100, 2)]\n",
    "        data[f\"f1_score_{label}\"] = [round(report[label]['f1-score']*100, 2)]\n",
    "\n",
    "    df = pd.DataFrame(data)\n",
    "    df.to_csv(f'results/{datasetName}/{datasetName}_{modelName }_eval_corrected.csv', sep=\",\", index=False)\n",
    "    return df"
   ]
  },
  {
   "cell_type": "code",
   "execution_count": null,
   "id": "3e8dce50",
   "metadata": {},
   "outputs": [],
   "source": []
  },
  {
   "cell_type": "code",
   "execution_count": null,
   "id": "df65a12b",
   "metadata": {},
   "outputs": [],
   "source": []
  },
  {
   "cell_type": "code",
   "execution_count": 26,
   "id": "f915456b",
   "metadata": {},
   "outputs": [],
   "source": [
    "def plot_metrics(df, metric, sufixe):\n",
    "    \n",
    "    # Extract column names starting  with '_accuracy'\n",
    "    metric_columns = [col for col in df.columns if col.startswith(f'{metric}_')]\n",
    "\n",
    "    # Set up Seaborn with a diverging color palette\n",
    "    sns.set(style=\"whitegrid\")\n",
    "    colors = sns.color_palette(\"RdYlGn\", len(metric_columns))\n",
    "\n",
    "    # Plotting the bar chart with seaborn\n",
    "    plt.figure(figsize=(10, 6))\n",
    "    print(\"l12\",df.iloc[0],metric_columns)\n",
    "    ax = sns.barplot(x=metric_columns, y=df.iloc[0][metric_columns], hue=metric_columns, palette=colors)\n",
    "\n",
    "    # Customize plot appearance\n",
    "    plt.title(f'{model_name} {sufixe} {metric} Comparison for {dataset_name}', fontsize=16)\n",
    "    plt.xlabel('Entity type', fontsize=14)\n",
    "    plt.ylabel(metric, fontsize=14)\n",
    "    plt.ylim(0, 110)  # Set y-axis limit to percentages (0-100)\n",
    "\n",
    "    # Rotate x-axis labels for better readability\n",
    "    ax.set_xticklabels(ax.get_xticklabels(), rotation=45, horizontalalignment='right')\n",
    "\n",
    "    # Add legend\n",
    "    plt.legend([col.replace(f'{metric}_', \"\") for col in metric_columns], title=\"Labels List\", loc=\"upper left\")\n",
    "\n",
    "    # Add grid lines\n",
    "    plt.grid(True, linestyle='--', alpha=0.7)\n",
    "\n",
    "    # Increase tick label font size\n",
    "    plt.xticks(fontsize=12)\n",
    "    plt.yticks(fontsize=12)\n",
    "\n",
    "    # Save the plot with tight layout to prevent label overlaps\n",
    "    plt.tight_layout()"
   ]
  },
  {
   "cell_type": "code",
   "execution_count": null,
   "id": "3c302413",
   "metadata": {},
   "outputs": [],
   "source": [
    "def plot_metrics2(df, metricList, sufixe, model):\n",
    "    \n",
    "    # Extract column names starting  with '_accuracy'\n",
    "    metric_columns = [col for col in df.columns if col.startswith(f'{metric}_')]\n",
    "\n",
    "    # Set up Seaborn with a diverging color palette\n",
    "    sns.set(style=\"whitegrid\")\n",
    "    colors = sns.color_palette(\"RdYlGn\", len(metric_columns))\n",
    "\n",
    "    # Plotting the bar chart with seaborn\n",
    "    plt.figure(figsize=(10, 6))\n",
    "    print(\"l12\",df.iloc[0],metric_columns)\n",
    "    \n",
    "    for metric in metrics:\n",
    "        \n",
    "    \n",
    "    ax = sns.barplot(x=metric_columns, y=df.iloc[0][metric_columns], hue=metric_columns, palette=colors)\n",
    "\n",
    "    # Customize plot appearance\n",
    "    plt.title(f'{model_name} {sufixe} {metric} Comparison for {dataset_name}', fontsize=16)\n",
    "    plt.xlabel('Entity type', fontsize=14)\n",
    "    plt.ylabel(metric, fontsize=14)\n",
    "    plt.ylim(0, 110)  # Set y-axis limit to percentages (0-100)\n",
    "\n",
    "    \n",
    "    \n",
    "    \n",
    "    \n",
    "    # Rotate x-axis labels for better readability\n",
    "    ax.set_xticklabels(ax.get_xticklabels(), rotation=45, horizontalalignment='right')\n",
    "\n",
    "    # Add legend\n",
    "    plt.legend([col.replace(f'{metric}_', \"\") for col in metric_columns], title=\"Labels List\", loc=\"upper left\")\n",
    "\n",
    "    # Add grid lines\n",
    "    plt.grid(True, linestyle='--', alpha=0.7)\n",
    "\n",
    "    # Increase tick label font size\n",
    "    plt.xticks(fontsize=12)\n",
    "    plt.yticks(fontsize=12)\n",
    "\n",
    "    # Save the plot with tight layout to prevent label overlaps\n",
    "    plt.tight_layout()"
   ]
  },
  {
   "cell_type": "code",
   "execution_count": 28,
   "id": "6d374e58",
   "metadata": {},
   "outputs": [
    {
     "data": {
      "text/plain": [
       "Index(['modelName', 'datasetName', 'accuracy_global', 'recall_global',\n",
       "       'f1_score_global', 'accuracy_Entity', 'recall_Entity',\n",
       "       'f1_score_Entity', 'accuracy_O', 'recall_O', 'f1_score_O'],\n",
       "      dtype='object')"
      ]
     },
     "execution_count": 28,
     "metadata": {},
     "output_type": "execute_result"
    }
   ],
   "source": [
    "df.columns"
   ]
  },
  {
   "cell_type": "code",
   "execution_count": 27,
   "id": "2a47be02",
   "metadata": {},
   "outputs": [
    {
     "name": "stdout",
     "output_type": "stream",
     "text": [
      "bc5cdr\n",
      "Bio-bert-based\n",
      "l12 modelName          Bio-bert-based\n",
      "datasetName                bc5cdr\n",
      "accuracy_global             94.58\n",
      "recall_global               94.76\n",
      "f1_score_global             94.49\n",
      "accuracy_Entity             89.14\n",
      "recall_Entity                69.8\n",
      "f1_score_Entity             78.29\n",
      "accuracy_O                  95.43\n",
      "recall_O                    98.67\n",
      "f1_score_O                  97.02\n",
      "Name: 0, dtype: object ['accuracy_global', 'accuracy_Entity', 'accuracy_O']\n"
     ]
    },
    {
     "ename": "KeyError",
     "evalue": "\"None of [Index([('accuracy_global', 'accuracy_Entity', 'accuracy_O')], dtype='object')] are in the [index]\"",
     "output_type": "error",
     "traceback": [
      "\u001b[1;31m---------------------------------------------------------------------------\u001b[0m",
      "\u001b[1;31mKeyError\u001b[0m                                  Traceback (most recent call last)",
      "Cell \u001b[1;32mIn[27], line 10\u001b[0m\n\u001b[0;32m      8\u001b[0m df \u001b[38;5;241m=\u001b[39m correctLabels(datasetName\u001b[38;5;241m=\u001b[39mdataset, modelName\u001b[38;5;241m=\u001b[39mmodel)\n\u001b[0;32m      9\u001b[0m \u001b[38;5;28;01mfor\u001b[39;00m metric \u001b[38;5;129;01min\u001b[39;00m metricList:\n\u001b[1;32m---> 10\u001b[0m     plot_metrics(df, metric\u001b[38;5;241m=\u001b[39mmetric, sufixe\u001b[38;5;241m=\u001b[39m\u001b[38;5;124m\"\u001b[39m\u001b[38;5;124mcorrected\u001b[39m\u001b[38;5;124m\"\u001b[39m)\n",
      "Cell \u001b[1;32mIn[26], line 13\u001b[0m, in \u001b[0;36mplot_metrics\u001b[1;34m(df, metric, sufixe)\u001b[0m\n\u001b[0;32m     11\u001b[0m plt\u001b[38;5;241m.\u001b[39mfigure(figsize\u001b[38;5;241m=\u001b[39m(\u001b[38;5;241m10\u001b[39m, \u001b[38;5;241m6\u001b[39m))\n\u001b[0;32m     12\u001b[0m \u001b[38;5;28mprint\u001b[39m(\u001b[38;5;124m\"\u001b[39m\u001b[38;5;124ml12\u001b[39m\u001b[38;5;124m\"\u001b[39m,df\u001b[38;5;241m.\u001b[39miloc[\u001b[38;5;241m0\u001b[39m],metric_columns)\n\u001b[1;32m---> 13\u001b[0m ax \u001b[38;5;241m=\u001b[39m sns\u001b[38;5;241m.\u001b[39mbarplot(x\u001b[38;5;241m=\u001b[39mmetric_columns, y\u001b[38;5;241m=\u001b[39mdf\u001b[38;5;241m.\u001b[39miloc[\u001b[38;5;241m0\u001b[39m][[metric_columns]], hue\u001b[38;5;241m=\u001b[39mmetric_columns, palette\u001b[38;5;241m=\u001b[39mcolors)\n\u001b[0;32m     15\u001b[0m \u001b[38;5;66;03m# Customize plot appearance\u001b[39;00m\n\u001b[0;32m     16\u001b[0m plt\u001b[38;5;241m.\u001b[39mtitle(\u001b[38;5;124mf\u001b[39m\u001b[38;5;124m'\u001b[39m\u001b[38;5;132;01m{\u001b[39;00mmodel_name\u001b[38;5;132;01m}\u001b[39;00m\u001b[38;5;124m \u001b[39m\u001b[38;5;132;01m{\u001b[39;00msufixe\u001b[38;5;132;01m}\u001b[39;00m\u001b[38;5;124m \u001b[39m\u001b[38;5;132;01m{\u001b[39;00mmetric\u001b[38;5;132;01m}\u001b[39;00m\u001b[38;5;124m Comparison for \u001b[39m\u001b[38;5;132;01m{\u001b[39;00mdataset_name\u001b[38;5;132;01m}\u001b[39;00m\u001b[38;5;124m'\u001b[39m, fontsize\u001b[38;5;241m=\u001b[39m\u001b[38;5;241m16\u001b[39m)\n",
      "File \u001b[1;32m~\\anaconda3\\Lib\\site-packages\\pandas\\core\\series.py:1033\u001b[0m, in \u001b[0;36mSeries.__getitem__\u001b[1;34m(self, key)\u001b[0m\n\u001b[0;32m   1030\u001b[0m     key \u001b[38;5;241m=\u001b[39m np\u001b[38;5;241m.\u001b[39masarray(key, dtype\u001b[38;5;241m=\u001b[39m\u001b[38;5;28mbool\u001b[39m)\n\u001b[0;32m   1031\u001b[0m     \u001b[38;5;28;01mreturn\u001b[39;00m \u001b[38;5;28mself\u001b[39m\u001b[38;5;241m.\u001b[39m_get_values(key)\n\u001b[1;32m-> 1033\u001b[0m \u001b[38;5;28;01mreturn\u001b[39;00m \u001b[38;5;28mself\u001b[39m\u001b[38;5;241m.\u001b[39m_get_with(key)\n",
      "File \u001b[1;32m~\\anaconda3\\Lib\\site-packages\\pandas\\core\\series.py:1073\u001b[0m, in \u001b[0;36mSeries._get_with\u001b[1;34m(self, key)\u001b[0m\n\u001b[0;32m   1070\u001b[0m         \u001b[38;5;28;01mreturn\u001b[39;00m \u001b[38;5;28mself\u001b[39m\u001b[38;5;241m.\u001b[39miloc[key]\n\u001b[0;32m   1072\u001b[0m \u001b[38;5;66;03m# handle the dup indexing case GH#4246\u001b[39;00m\n\u001b[1;32m-> 1073\u001b[0m \u001b[38;5;28;01mreturn\u001b[39;00m \u001b[38;5;28mself\u001b[39m\u001b[38;5;241m.\u001b[39mloc[key]\n",
      "File \u001b[1;32m~\\anaconda3\\Lib\\site-packages\\pandas\\core\\indexing.py:1103\u001b[0m, in \u001b[0;36m_LocationIndexer.__getitem__\u001b[1;34m(self, key)\u001b[0m\n\u001b[0;32m   1100\u001b[0m axis \u001b[38;5;241m=\u001b[39m \u001b[38;5;28mself\u001b[39m\u001b[38;5;241m.\u001b[39maxis \u001b[38;5;129;01mor\u001b[39;00m \u001b[38;5;241m0\u001b[39m\n\u001b[0;32m   1102\u001b[0m maybe_callable \u001b[38;5;241m=\u001b[39m com\u001b[38;5;241m.\u001b[39mapply_if_callable(key, \u001b[38;5;28mself\u001b[39m\u001b[38;5;241m.\u001b[39mobj)\n\u001b[1;32m-> 1103\u001b[0m \u001b[38;5;28;01mreturn\u001b[39;00m \u001b[38;5;28mself\u001b[39m\u001b[38;5;241m.\u001b[39m_getitem_axis(maybe_callable, axis\u001b[38;5;241m=\u001b[39maxis)\n",
      "File \u001b[1;32m~\\anaconda3\\Lib\\site-packages\\pandas\\core\\indexing.py:1332\u001b[0m, in \u001b[0;36m_LocIndexer._getitem_axis\u001b[1;34m(self, key, axis)\u001b[0m\n\u001b[0;32m   1329\u001b[0m     \u001b[38;5;28;01mif\u001b[39;00m \u001b[38;5;28mhasattr\u001b[39m(key, \u001b[38;5;124m\"\u001b[39m\u001b[38;5;124mndim\u001b[39m\u001b[38;5;124m\"\u001b[39m) \u001b[38;5;129;01mand\u001b[39;00m key\u001b[38;5;241m.\u001b[39mndim \u001b[38;5;241m>\u001b[39m \u001b[38;5;241m1\u001b[39m:\n\u001b[0;32m   1330\u001b[0m         \u001b[38;5;28;01mraise\u001b[39;00m \u001b[38;5;167;01mValueError\u001b[39;00m(\u001b[38;5;124m\"\u001b[39m\u001b[38;5;124mCannot index with multidimensional key\u001b[39m\u001b[38;5;124m\"\u001b[39m)\n\u001b[1;32m-> 1332\u001b[0m     \u001b[38;5;28;01mreturn\u001b[39;00m \u001b[38;5;28mself\u001b[39m\u001b[38;5;241m.\u001b[39m_getitem_iterable(key, axis\u001b[38;5;241m=\u001b[39maxis)\n\u001b[0;32m   1334\u001b[0m \u001b[38;5;66;03m# nested tuple slicing\u001b[39;00m\n\u001b[0;32m   1335\u001b[0m \u001b[38;5;28;01mif\u001b[39;00m is_nested_tuple(key, labels):\n",
      "File \u001b[1;32m~\\anaconda3\\Lib\\site-packages\\pandas\\core\\indexing.py:1272\u001b[0m, in \u001b[0;36m_LocIndexer._getitem_iterable\u001b[1;34m(self, key, axis)\u001b[0m\n\u001b[0;32m   1269\u001b[0m \u001b[38;5;28mself\u001b[39m\u001b[38;5;241m.\u001b[39m_validate_key(key, axis)\n\u001b[0;32m   1271\u001b[0m \u001b[38;5;66;03m# A collection of keys\u001b[39;00m\n\u001b[1;32m-> 1272\u001b[0m keyarr, indexer \u001b[38;5;241m=\u001b[39m \u001b[38;5;28mself\u001b[39m\u001b[38;5;241m.\u001b[39m_get_listlike_indexer(key, axis)\n\u001b[0;32m   1273\u001b[0m \u001b[38;5;28;01mreturn\u001b[39;00m \u001b[38;5;28mself\u001b[39m\u001b[38;5;241m.\u001b[39mobj\u001b[38;5;241m.\u001b[39m_reindex_with_indexers(\n\u001b[0;32m   1274\u001b[0m     {axis: [keyarr, indexer]}, copy\u001b[38;5;241m=\u001b[39m\u001b[38;5;28;01mTrue\u001b[39;00m, allow_dups\u001b[38;5;241m=\u001b[39m\u001b[38;5;28;01mTrue\u001b[39;00m\n\u001b[0;32m   1275\u001b[0m )\n",
      "File \u001b[1;32m~\\anaconda3\\Lib\\site-packages\\pandas\\core\\indexing.py:1462\u001b[0m, in \u001b[0;36m_LocIndexer._get_listlike_indexer\u001b[1;34m(self, key, axis)\u001b[0m\n\u001b[0;32m   1459\u001b[0m ax \u001b[38;5;241m=\u001b[39m \u001b[38;5;28mself\u001b[39m\u001b[38;5;241m.\u001b[39mobj\u001b[38;5;241m.\u001b[39m_get_axis(axis)\n\u001b[0;32m   1460\u001b[0m axis_name \u001b[38;5;241m=\u001b[39m \u001b[38;5;28mself\u001b[39m\u001b[38;5;241m.\u001b[39mobj\u001b[38;5;241m.\u001b[39m_get_axis_name(axis)\n\u001b[1;32m-> 1462\u001b[0m keyarr, indexer \u001b[38;5;241m=\u001b[39m ax\u001b[38;5;241m.\u001b[39m_get_indexer_strict(key, axis_name)\n\u001b[0;32m   1464\u001b[0m \u001b[38;5;28;01mreturn\u001b[39;00m keyarr, indexer\n",
      "File \u001b[1;32m~\\anaconda3\\Lib\\site-packages\\pandas\\core\\indexes\\base.py:5877\u001b[0m, in \u001b[0;36mIndex._get_indexer_strict\u001b[1;34m(self, key, axis_name)\u001b[0m\n\u001b[0;32m   5874\u001b[0m \u001b[38;5;28;01melse\u001b[39;00m:\n\u001b[0;32m   5875\u001b[0m     keyarr, indexer, new_indexer \u001b[38;5;241m=\u001b[39m \u001b[38;5;28mself\u001b[39m\u001b[38;5;241m.\u001b[39m_reindex_non_unique(keyarr)\n\u001b[1;32m-> 5877\u001b[0m \u001b[38;5;28mself\u001b[39m\u001b[38;5;241m.\u001b[39m_raise_if_missing(keyarr, indexer, axis_name)\n\u001b[0;32m   5879\u001b[0m keyarr \u001b[38;5;241m=\u001b[39m \u001b[38;5;28mself\u001b[39m\u001b[38;5;241m.\u001b[39mtake(indexer)\n\u001b[0;32m   5880\u001b[0m \u001b[38;5;28;01mif\u001b[39;00m \u001b[38;5;28misinstance\u001b[39m(key, Index):\n\u001b[0;32m   5881\u001b[0m     \u001b[38;5;66;03m# GH 42790 - Preserve name from an Index\u001b[39;00m\n",
      "File \u001b[1;32m~\\anaconda3\\Lib\\site-packages\\pandas\\core\\indexes\\base.py:5938\u001b[0m, in \u001b[0;36mIndex._raise_if_missing\u001b[1;34m(self, key, indexer, axis_name)\u001b[0m\n\u001b[0;32m   5936\u001b[0m     \u001b[38;5;28;01mif\u001b[39;00m use_interval_msg:\n\u001b[0;32m   5937\u001b[0m         key \u001b[38;5;241m=\u001b[39m \u001b[38;5;28mlist\u001b[39m(key)\n\u001b[1;32m-> 5938\u001b[0m     \u001b[38;5;28;01mraise\u001b[39;00m \u001b[38;5;167;01mKeyError\u001b[39;00m(\u001b[38;5;124mf\u001b[39m\u001b[38;5;124m\"\u001b[39m\u001b[38;5;124mNone of [\u001b[39m\u001b[38;5;132;01m{\u001b[39;00mkey\u001b[38;5;132;01m}\u001b[39;00m\u001b[38;5;124m] are in the [\u001b[39m\u001b[38;5;132;01m{\u001b[39;00maxis_name\u001b[38;5;132;01m}\u001b[39;00m\u001b[38;5;124m]\u001b[39m\u001b[38;5;124m\"\u001b[39m)\n\u001b[0;32m   5940\u001b[0m not_found \u001b[38;5;241m=\u001b[39m \u001b[38;5;28mlist\u001b[39m(ensure_index(key)[missing_mask\u001b[38;5;241m.\u001b[39mnonzero()[\u001b[38;5;241m0\u001b[39m]]\u001b[38;5;241m.\u001b[39munique())\n\u001b[0;32m   5941\u001b[0m \u001b[38;5;28;01mraise\u001b[39;00m \u001b[38;5;167;01mKeyError\u001b[39;00m(\u001b[38;5;124mf\u001b[39m\u001b[38;5;124m\"\u001b[39m\u001b[38;5;132;01m{\u001b[39;00mnot_found\u001b[38;5;132;01m}\u001b[39;00m\u001b[38;5;124m not in index\u001b[39m\u001b[38;5;124m\"\u001b[39m)\n",
      "\u001b[1;31mKeyError\u001b[0m: \"None of [Index([('accuracy_global', 'accuracy_Entity', 'accuracy_O')], dtype='object')] are in the [index]\""
     ]
    },
    {
     "data": {
      "text/plain": [
       "<Figure size 1000x600 with 0 Axes>"
      ]
     },
     "metadata": {},
     "output_type": "display_data"
    }
   ],
   "source": [
    "#  loop over dataset and model to generate plots\n",
    "modelList = [\"Bio-bert-based\", \"bert-based\", \"spark-nlp\"]\n",
    "metricList = [\"accuracy\", \"recall\", \"f1_score\"]\n",
    "for dataset in os.listdir(\"datasets/\"):\n",
    "    print(dataset)\n",
    "    for model in modelList:\n",
    "        print(model)\n",
    "        df = correctLabels(datasetName=dataset, modelName=model)\n",
    "        plot_metrics2(df, metricList, sufixe, model)"
   ]
  },
  {
   "cell_type": "code",
   "execution_count": null,
   "id": "885b04ea",
   "metadata": {},
   "outputs": [],
   "source": []
  }
 ],
 "metadata": {
  "kernelspec": {
   "display_name": "Python 3 (ipykernel)",
   "language": "python",
   "name": "python3"
  },
  "language_info": {
   "codemirror_mode": {
    "name": "ipython",
    "version": 3
   },
   "file_extension": ".py",
   "mimetype": "text/x-python",
   "name": "python",
   "nbconvert_exporter": "python",
   "pygments_lexer": "ipython3",
   "version": "3.11.5"
  }
 },
 "nbformat": 4,
 "nbformat_minor": 5
}
