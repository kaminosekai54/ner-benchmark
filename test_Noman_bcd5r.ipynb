{
 "cells": [
  {
   "cell_type": "code",
   "execution_count": 1,
   "id": "a4cc86fe",
   "metadata": {},
   "outputs": [
    {
     "name": "stdout",
     "output_type": "stream",
     "text": [
      "         words    labels\n",
      "0   Famotidine  I-Entity\n",
      "1            -         O\n",
      "2   associated         O\n",
      "3     delirium  I-Entity\n",
      "4            .         O\n",
      "5   Famotidine  I-Entity\n",
      "6           is         O\n",
      "7            a         O\n",
      "8    histamine         O\n",
      "9  H2-receptor         O\n",
      "         words    labels\n",
      "0   Famotidine  I-Entity\n",
      "1            -         O\n",
      "2   associated         O\n",
      "3     delirium  I-Entity\n",
      "4            .         O\n",
      "5   Famotidine  I-Entity\n",
      "6           is         O\n",
      "7            a         O\n",
      "8    histamine  I-Entity\n",
      "9  H2-receptor  I-Entity\n"
     ]
    }
   ],
   "source": [
    "import pandas as pd\n",
    "from sklearn.metrics import f1_score, confusion_matrix, classification_report,accuracy_score,roc_curve\n",
    "import matplotlib.pyplot as plt\n",
    "import seaborn as sns\n",
    "\n",
    "df1 = pd.read_csv(\"datasets/bc5cdr/test.tsv\", sep = \"\\t\", names = [\"words\", \"labels\"])\n",
    "print(df1.head(10))\n",
    "\n",
    "df2 = pd.read_csv(\"results/bc5cdr/bc5cdr_Bio-bert-based_predictions.csv\", sep = \",\",)\n",
    "print(df2.head(10))\n",
    "\n",
    "import warnings\n",
    "warnings.filterwarnings('ignore')"
   ]
  },
  {
   "cell_type": "code",
   "execution_count": 2,
   "id": "d6fb8c9b",
   "metadata": {},
   "outputs": [
    {
     "data": {
      "text/html": [
       "<div>\n",
       "<style scoped>\n",
       "    .dataframe tbody tr th:only-of-type {\n",
       "        vertical-align: middle;\n",
       "    }\n",
       "\n",
       "    .dataframe tbody tr th {\n",
       "        vertical-align: top;\n",
       "    }\n",
       "\n",
       "    .dataframe thead th {\n",
       "        text-align: right;\n",
       "    }\n",
       "</style>\n",
       "<table border=\"1\" class=\"dataframe\">\n",
       "  <thead>\n",
       "    <tr style=\"text-align: right;\">\n",
       "      <th></th>\n",
       "      <th>words</th>\n",
       "      <th>labels</th>\n",
       "    </tr>\n",
       "  </thead>\n",
       "  <tbody>\n",
       "    <tr>\n",
       "      <th>count</th>\n",
       "      <td>98682</td>\n",
       "      <td>98691</td>\n",
       "    </tr>\n",
       "    <tr>\n",
       "      <th>unique</th>\n",
       "      <td>10208</td>\n",
       "      <td>3</td>\n",
       "    </tr>\n",
       "    <tr>\n",
       "      <th>top</th>\n",
       "      <td>.</td>\n",
       "      <td>O</td>\n",
       "    </tr>\n",
       "    <tr>\n",
       "      <th>freq</th>\n",
       "      <td>3869</td>\n",
       "      <td>85331</td>\n",
       "    </tr>\n",
       "  </tbody>\n",
       "</table>\n",
       "</div>"
      ],
      "text/plain": [
       "        words labels\n",
       "count   98682  98691\n",
       "unique  10208      3\n",
       "top         .      O\n",
       "freq     3869  85331"
      ]
     },
     "execution_count": 2,
     "metadata": {},
     "output_type": "execute_result"
    }
   ],
   "source": [
    "df1.describe()"
   ]
  },
  {
   "cell_type": "code",
   "execution_count": 3,
   "id": "063931c7",
   "metadata": {},
   "outputs": [
    {
     "data": {
      "text/html": [
       "<div>\n",
       "<style scoped>\n",
       "    .dataframe tbody tr th:only-of-type {\n",
       "        vertical-align: middle;\n",
       "    }\n",
       "\n",
       "    .dataframe tbody tr th {\n",
       "        vertical-align: top;\n",
       "    }\n",
       "\n",
       "    .dataframe thead th {\n",
       "        text-align: right;\n",
       "    }\n",
       "</style>\n",
       "<table border=\"1\" class=\"dataframe\">\n",
       "  <thead>\n",
       "    <tr style=\"text-align: right;\">\n",
       "      <th></th>\n",
       "      <th>words</th>\n",
       "      <th>labels</th>\n",
       "    </tr>\n",
       "  </thead>\n",
       "  <tbody>\n",
       "    <tr>\n",
       "      <th>count</th>\n",
       "      <td>98682</td>\n",
       "      <td>98691</td>\n",
       "    </tr>\n",
       "    <tr>\n",
       "      <th>unique</th>\n",
       "      <td>10208</td>\n",
       "      <td>3</td>\n",
       "    </tr>\n",
       "    <tr>\n",
       "      <th>top</th>\n",
       "      <td>.</td>\n",
       "      <td>O</td>\n",
       "    </tr>\n",
       "    <tr>\n",
       "      <th>freq</th>\n",
       "      <td>3869</td>\n",
       "      <td>88230</td>\n",
       "    </tr>\n",
       "  </tbody>\n",
       "</table>\n",
       "</div>"
      ],
      "text/plain": [
       "        words labels\n",
       "count   98682  98691\n",
       "unique  10208      3\n",
       "top         .      O\n",
       "freq     3869  88230"
      ]
     },
     "execution_count": 3,
     "metadata": {},
     "output_type": "execute_result"
    }
   ],
   "source": [
    "df2.describe()"
   ]
  },
  {
   "cell_type": "code",
   "execution_count": 4,
   "id": "51a5898a",
   "metadata": {},
   "outputs": [
    {
     "data": {
      "text/plain": [
       "labels    0.000000\n",
       "words     0.000091\n",
       "dtype: float64"
      ]
     },
     "execution_count": 4,
     "metadata": {},
     "output_type": "execute_result"
    }
   ],
   "source": [
    "df1.describe()\n",
    "(df1.isna().sum()/df1.shape[0]).sort_values(ascending=True)"
   ]
  },
  {
   "cell_type": "code",
   "execution_count": 5,
   "id": "c2fe7da4",
   "metadata": {},
   "outputs": [
    {
     "data": {
      "text/plain": [
       "0        Entity\n",
       "1             O\n",
       "2             O\n",
       "3        Entity\n",
       "4             O\n",
       "          ...  \n",
       "98686    Entity\n",
       "98687    Entity\n",
       "98688         O\n",
       "98689    Entity\n",
       "98690         O\n",
       "Name: labels, Length: 98691, dtype: object"
      ]
     },
     "execution_count": 5,
     "metadata": {},
     "output_type": "execute_result"
    }
   ],
   "source": [
    "df1.labels = df1.labels.str.replace(\"I-\", \"\", case = False).str.replace(\"B-\", \"\", case = False)\n",
    "df1.labels"
   ]
  },
  {
   "cell_type": "code",
   "execution_count": 6,
   "id": "8fa44931",
   "metadata": {},
   "outputs": [
    {
     "data": {
      "text/html": [
       "<div>\n",
       "<style scoped>\n",
       "    .dataframe tbody tr th:only-of-type {\n",
       "        vertical-align: middle;\n",
       "    }\n",
       "\n",
       "    .dataframe tbody tr th {\n",
       "        vertical-align: top;\n",
       "    }\n",
       "\n",
       "    .dataframe thead th {\n",
       "        text-align: right;\n",
       "    }\n",
       "</style>\n",
       "<table border=\"1\" class=\"dataframe\">\n",
       "  <thead>\n",
       "    <tr style=\"text-align: right;\">\n",
       "      <th></th>\n",
       "      <th>words</th>\n",
       "      <th>labels</th>\n",
       "    </tr>\n",
       "  </thead>\n",
       "  <tbody>\n",
       "    <tr>\n",
       "      <th>0</th>\n",
       "      <td>Famotidine</td>\n",
       "      <td>Entity</td>\n",
       "    </tr>\n",
       "    <tr>\n",
       "      <th>1</th>\n",
       "      <td>-</td>\n",
       "      <td>O</td>\n",
       "    </tr>\n",
       "    <tr>\n",
       "      <th>2</th>\n",
       "      <td>associated</td>\n",
       "      <td>O</td>\n",
       "    </tr>\n",
       "    <tr>\n",
       "      <th>3</th>\n",
       "      <td>delirium</td>\n",
       "      <td>Entity</td>\n",
       "    </tr>\n",
       "    <tr>\n",
       "      <th>4</th>\n",
       "      <td>.</td>\n",
       "      <td>O</td>\n",
       "    </tr>\n",
       "  </tbody>\n",
       "</table>\n",
       "</div>"
      ],
      "text/plain": [
       "        words  labels\n",
       "0  Famotidine  Entity\n",
       "1           -       O\n",
       "2  associated       O\n",
       "3    delirium  Entity\n",
       "4           .       O"
      ]
     },
     "execution_count": 6,
     "metadata": {},
     "output_type": "execute_result"
    }
   ],
   "source": [
    "df1.head(5)"
   ]
  },
  {
   "cell_type": "code",
   "execution_count": 7,
   "id": "42c86e3c",
   "metadata": {},
   "outputs": [
    {
     "data": {
      "text/plain": [
       "0        Entity\n",
       "1             O\n",
       "2             O\n",
       "3        Entity\n",
       "4             O\n",
       "          ...  \n",
       "98686    Entity\n",
       "98687         O\n",
       "98688         O\n",
       "98689    Entity\n",
       "98690         O\n",
       "Name: labels, Length: 98691, dtype: object"
      ]
     },
     "execution_count": 7,
     "metadata": {},
     "output_type": "execute_result"
    }
   ],
   "source": [
    "df2.labels = df2.labels.str.replace(\"I-\", \"\").str.replace(\"B-\", \"\")\n",
    "df2.labels"
   ]
  },
  {
   "cell_type": "code",
   "execution_count": 8,
   "id": "432a128d",
   "metadata": {},
   "outputs": [
    {
     "name": "stdout",
     "output_type": "stream",
     "text": [
      "['Entity', 'O']\n"
     ]
    }
   ],
   "source": [
    "custom_labels1 = list(df1.labels.unique()) \n",
    "print(custom_labels1)"
   ]
  },
  {
   "cell_type": "code",
   "execution_count": 9,
   "id": "8081fa37",
   "metadata": {},
   "outputs": [
    {
     "name": "stdout",
     "output_type": "stream",
     "text": [
      "['Entity', 'O']\n"
     ]
    }
   ],
   "source": [
    "custom_labels2 = list(df2.labels.unique())\n",
    "print(custom_labels2)"
   ]
  },
  {
   "cell_type": "code",
   "execution_count": 10,
   "id": "f2588b6b",
   "metadata": {},
   "outputs": [
    {
     "name": "stdout",
     "output_type": "stream",
     "text": [
      "['O', 'Entity']\n"
     ]
    }
   ],
   "source": [
    "custom_labels_finale = list(set(custom_labels1 + custom_labels2))\n",
    "print(custom_labels_finale)"
   ]
  },
  {
   "cell_type": "code",
   "execution_count": 11,
   "id": "5112b404",
   "metadata": {},
   "outputs": [
    {
     "name": "stdout",
     "output_type": "stream",
     "text": [
      "        words  labels\n",
      "0  Famotidine  Entity\n",
      "1           -       O\n",
      "2  associated       O\n",
      "3    delirium  Entity\n",
      "4           .       O\n"
     ]
    }
   ],
   "source": [
    "print(df1.head(5))"
   ]
  },
  {
   "cell_type": "markdown",
   "id": "1e599433",
   "metadata": {},
   "source": [
    "# Calculate precision, recall, and F1-score globally and for each unique label\n",
    "    report = classification_report(test_df.labels, tdf.labels, labels=custom_labels, target_names=custom_labels, output_dict=True)\n",
    "    # print(report)\n",
    "\n",
    "    ## Create a data frame with the desired output\n",
    "    data = {\n",
    "        \"modelName\": [modelName ],\n",
    "        \"dataset\": [datasetName],\n",
    "        \"accuracy_global\": [round(report['weighted avg']['precision']*100, 2)],\n",
    "        \"recall_global\": [round(report['weighted avg']['recall']*100, 2)],\n",
    "        \"f1_score_global\": [round(report['weighted avg']['f1-score'] *100, 2)]\n",
    "    }\n",
    "    for label in custom_labels:\n",
    "        data[f\"accuracy_{label}\"] = [round(report[label]['precision']*100, 2)]\n",
    "        data[f\"recall_{label}\"] = [round(report[label]['recall']*100, 2)]\n",
    "        data[f\"f1_score_{label}\"] = [round(report[label]['f1-score']*100, 2)]\n",
    "\n",
    "    df = pd.DataFrame(data)\n",
    "    df.to_csv(f'results/{datasetName}/{datasetName}_{modelName }_eval.csv', sep=\",\", index=False)\n",
    "    return df"
   ]
  },
  {
   "cell_type": "code",
   "execution_count": 12,
   "id": "3e5967b4",
   "metadata": {},
   "outputs": [
    {
     "name": "stdout",
     "output_type": "stream",
     "text": [
      "{'O': {'precision': 0.9542672560353621, 'recall': 0.9866871359763744, 'f1-score': 0.9702064403869533, 'support': 85331.0}, 'Entity': {'precision': 0.8914061753178473, 'recall': 0.6979790419161677, 'f1-score': 0.7829226312917175, 'support': 13360.0}, 'accuracy': 0.9476041381686273, 'macro avg': {'precision': 0.9228367156766046, 'recall': 0.842333088946271, 'f1-score': 0.8765645358393354, 'support': 98691.0}, 'weighted avg': {'precision': 0.945757624575695, 'recall': 0.9476041381686273, 'f1-score': 0.9448534528854349, 'support': 98691.0}}\n"
     ]
    }
   ],
   "source": [
    "report = classification_report(df1['labels'], df2.labels, labels = custom_labels_finale, target_names = custom_labels_finale, output_dict = True)\n",
    "print(report)"
   ]
  },
  {
   "cell_type": "code",
   "execution_count": 13,
   "id": "960d733f",
   "metadata": {},
   "outputs": [],
   "source": [
    "datasetName = 'bc5cdr'\n",
    "modelName = 'Bio-bert-based'\n",
    "\n",
    "data = {\n",
    "        \"Bio-bert-based\": [modelName ],\n",
    "        \"bc5cdr\": [datasetName],\n",
    "        \"accuracy_global\": [round(report['weighted avg']['precision']*100, 2)],\n",
    "        \"recall_global\": [round(report['weighted avg']['recall']*100, 2)],\n",
    "        \"f1_score_global\": [round(report['weighted avg']['f1-score'] *100, 2)]\n",
    "    }\n",
    "for label in custom_labels_finale:\n",
    "        data[f\"accuracy_{label}\"] = [round(report[label]['precision']*100, 2)]\n",
    "        data[f\"recall_{label}\"] = [round(report[label]['recall']*100, 2)]\n",
    "        data[f\"f1_score_{label}\"] = [round(report[label]['f1-score']*100, 2)]\n",
    "\n",
    "df = pd.DataFrame(data)\n",
    "df.to_csv(f'results/{datasetName}/{datasetName}_{modelName }_corrected.csv', sep=\",\", index=False)"
   ]
  },
  {
   "cell_type": "code",
   "execution_count": null,
   "id": "46fb48c2",
   "metadata": {},
   "outputs": [],
   "source": []
  }
 ],
 "metadata": {
  "kernelspec": {
   "display_name": "Python 3 (ipykernel)",
   "language": "python",
   "name": "python3"
  },
  "language_info": {
   "codemirror_mode": {
    "name": "ipython",
    "version": 3
   },
   "file_extension": ".py",
   "mimetype": "text/x-python",
   "name": "python",
   "nbconvert_exporter": "python",
   "pygments_lexer": "ipython3",
   "version": "3.11.5"
  }
 },
 "nbformat": 4,
 "nbformat_minor": 5
}
