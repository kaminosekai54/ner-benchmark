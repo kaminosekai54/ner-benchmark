{
 "cells": [
  {
   "cell_type": "code",
   "execution_count": 1,
   "id": "d1bd1ce9",
   "metadata": {},
   "outputs": [],
   "source": [
    "from usefull import correctLabels"
   ]
  },
  {
   "cell_type": "code",
   "execution_count": 5,
   "id": "f645cb49",
   "metadata": {},
   "outputs": [],
   "source": [
    "def correctLabels(datasetName, modelName):\n",
    "    df1 = readDatasetWithSentenceId(datasetName, \"test\")\n",
    "    df2 = pd.read_csv(f'results/{datasetName}/{datasetName}_{modelName }_predictions.csv')\n",
    "    print(df1.labels.unique())\n",
    "    print(df2.labels.unique())\n",
    "    df1.labels= df1.labels.str.replace(\"I-\", \"\").str.replace(\"B-\", \"\")\n",
    "    df2.labels= df2.labels.str.replace(\"I-\", \"\").str.replace(\"B-\", \"\")\n",
    "    custom_labels = list(set(list(df1.labels.unique()) + list(df2.labels.unique())))\n",
    "    report = classification_report(df1.labels, df2.labels, labels=custom_labels, target_names=custom_labels, output_dict=True)\n",
    "    data = {\n",
    "        \"Bio-bert-based\": [modelName ],\n",
    "        \"jnlpba\": [datasetName],\n",
    "        \"accuracy_global\": [round(report['weighted avg']['precision']*100, 2)],\n",
    "        \"recall_global\": [round(report['weighted avg']['recall']*100, 2)],\n",
    "        \"f1_score_global\": [round(report['weighted avg']['f1-score'] *100, 2)]\n",
    "    }\n",
    "    for label in custom_labels:\n",
    "        data[f\"accuracy_{label}\"] = [round(report[label]['precision']*100, 2)]\n",
    "        data[f\"recall_{label}\"] = [round(report[label]['recall']*100, 2)]\n",
    "        data[f\"f1_score_{label}\"] = [round(report[label]['f1-score']*100, 2)]\n",
    "\n",
    "    df = pd.DataFrame(data)\n",
    "    df.to_csv(f'results/{datasetName}/{datasetName}_{modelName }_eval_corrected.csv', sep=\",\", index=False)\n",
    "    return df\n",
    "    "
   ]
  }
 ],
 "metadata": {
  "kernelspec": {
   "display_name": "Python 3 (ipykernel)",
   "language": "python",
   "name": "python3"
  },
  "language_info": {
   "codemirror_mode": {
    "name": "ipython",
    "version": 3
   },
   "file_extension": ".py",
   "mimetype": "text/x-python",
   "name": "python",
   "nbconvert_exporter": "python",
   "pygments_lexer": "ipython3",
   "version": "3.11.5"
  }
 },
 "nbformat": 4,
 "nbformat_minor": 5
}
