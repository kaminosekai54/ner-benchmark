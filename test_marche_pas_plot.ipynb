{
 "cells": [
  {
   "cell_type": "code",
   "execution_count": 9,
   "id": "3a9df455",
   "metadata": {},
   "outputs": [],
   "source": [
    "def correctLabels(datasetName, modelName):\n",
    "    df1 = readDatasetWithSentenceId(datasetName, \"test\")\n",
    "    df2 = pd.read_csv(f'results/{datasetName}/{datasetName}_{modelName }_predictions.csv')\n",
    "    print(df1.labels.unique())\n",
    "    print(df2.labels.unique())\n",
    "    df1.labels= df1.labels.str.replace(\"I-\", \"\").str.replace(\"B-\", \"\")\n",
    "    df2.labels= df2.labels.str.replace(\"I-\", \"\").str.replace(\"B-\", \"\")\n",
    "    custom_labels = list(set(list(df1.labels.unique()) + list(df2.labels.unique())))\n",
    "    report = classification_report(df1.labels, df2.labels, labels=custom_labels, target_names=custom_labels, output_dict=True)\n",
    "    data = {\n",
    "        \"modelName\": [modelName ],\n",
    "        \"datasetName\": [datasetName],\n",
    "        \"accuracy_global\": [round(report['weighted avg']['precision']*100, 2)],\n",
    "        \"recall_global\": [round(report['weighted avg']['recall']*100, 2)],\n",
    "        \"f1_score_global\": [round(report['weighted avg']['f1-score'] *100, 2)]\n",
    "    }\n",
    "    for label in custom_labels:\n",
    "        data[f\"accuracy_{label}\"] = [round(report[label]['precision']*100, 2)]\n",
    "        data[f\"recall_{label}\"] = [round(report[label]['recall']*100, 2)]\n",
    "        data[f\"f1_score_{label}\"] = [round(report[label]['f1-score']*100, 2)]\n",
    "\n",
    "    df = pd.DataFrame(data)\n",
    "    df.to_csv(f'results/{datasetName}/{datasetName}_{modelName }_eval_corrected.csv', sep=\",\", index=False)\n",
    "    return df"
   ]
  },
  {
   "cell_type": "code",
   "execution_count": 11,
   "id": "6ec72359",
   "metadata": {},
   "outputs": [
    {
     "name": "stdout",
     "output_type": "stream",
     "text": [
      "['O' 'B-Disease' 'I-Disease']\n",
      "['O' 'B-Disease' 'I-Disease']\n",
      "Index(['modelName', 'datasetName', 'accuracy_global', 'recall_global',\n",
      "       'f1_score_global', 'accuracy_Disease', 'recall_Disease',\n",
      "       'f1_score_Disease', 'accuracy_O', 'recall_O', 'f1_score_O'],\n",
      "      dtype='object')\n"
     ]
    }
   ],
   "source": [
    "from usefull import correctLabels\n",
    "\n",
    "df = correctLabels(\"ncbi-disease\", \"Bio-bert-based\")\n",
    "print(df.columns)"
   ]
  },
  {
   "cell_type": "code",
   "execution_count": 12,
   "id": "809bae69",
   "metadata": {},
   "outputs": [],
   "source": [
    "def plot_metrics(df, model_name, dataset_name, metric, show = True):\n",
    "    results_folder = \"results/\"\n",
    "    dataset_folder = f'{results_folder}{dataset_name}/'\n",
    "    figures_folder = f'{dataset_folder}figures/'\n",
    "    \n",
    "    # Create directories if they don't exist\n",
    "    for folder in [results_folder, dataset_folder, figures_folder]:\n",
    "        if not os.path.isdir(folder): os.makedirs(folder)\n",
    "    \n",
    "    # Extract column names starting  with '_accuracy'\n",
    "    metric_columns = [col for col in df.columns if col.startswith(f'{metric}_')]\n",
    "\n",
    "    # Set up Seaborn with a diverging color palette\n",
    "    sns.set(style=\"whitegrid\")\n",
    "    colors = sns.color_palette(\"RdYlGn\", len(metric_columns))\n",
    "\n",
    "    # Plotting the bar chart with seaborn\n",
    "    plt.figure(figsize=(10, 6))\n",
    "    ax = sns.barplot(x=metric_columns, y=df.iloc[0][metric_columns], hue=metric_columns, palette=colors)\n",
    "\n",
    "    # Customize plot appearance\n",
    "    plt.title(f'{model_name} {metric} Comparison for {dataset_name}', fontsize=16)\n",
    "    plt.xlabel('Entity type', fontsize=14)\n",
    "    plt.ylabel(metric, fontsize=14)\n",
    "    plt.ylim(0, 110)  # Set y-axis limit to percentages (0-100)\n",
    "\n",
    "    # Rotate x-axis labels for better readability\n",
    "    ax.set_xticklabels(ax.get_xticklabels(), rotation=45, horizontalalignment='right')\n",
    "\n",
    "    # Add legend\n",
    "    plt.legend([col.replace(f'{metric}_', \"\") for col in metric_columns], title=\"Labels List\", loc=\"upper left\")\n",
    "\n",
    "    # Add grid lines\n",
    "    plt.grid(True, linestyle='--', alpha=0.7)\n",
    "\n",
    "    # Increase tick label font size\n",
    "    plt.xticks(fontsize=12)\n",
    "    plt.yticks(fontsize=12)\n",
    "\n",
    "    # Save the plot with tight layout to prevent label overlaps\n",
    "    plt.tight_layout()\n",
    "    if show == True : plt.show()\n",
    "    plt.savefig(f'{figures_folder}{model_name}_{metric}_plot_for_{dataset_name}.png')\n"
   ]
  },
  {
   "cell_type": "code",
   "execution_count": 20,
   "id": "ae66d188",
   "metadata": {},
   "outputs": [
    {
     "ename": "IndentationError",
     "evalue": "unexpected indent (1639673148.py, line 5)",
     "output_type": "error",
     "traceback": [
      "\u001b[1;36m  Cell \u001b[1;32mIn[20], line 5\u001b[1;36m\u001b[0m\n\u001b[1;33m    for dataset in os.listdir(\"datasets/\"):\u001b[0m\n\u001b[1;37m    ^\u001b[0m\n\u001b[1;31mIndentationError\u001b[0m\u001b[1;31m:\u001b[0m unexpected indent\n"
     ]
    }
   ],
   "source": [
    "import os\n",
    "from usefull import plot_metrics\n",
    "model_list=[\"Bio-bert-based\", \"bert-based\"]\n",
    "metricList = [\"accuracy\", \"recall\", \"f1_score\"]\n",
    "      for dataset in os.listdir(\"datasets/\"):\n",
    "        print(dataset)\n",
    "        for model in model_list:\n",
    "                df = correctLabels(datasetName = dataset)\n",
    "                for metric in metricList:\n",
    "                    plot_metrics(df, model_name=model, dataset_name=dataset, metric=metric, show = False)"
   ]
  },
  {
   "cell_type": "code",
   "execution_count": 25,
   "id": "cf29d0e6",
   "metadata": {},
   "outputs": [
    {
     "name": "stdout",
     "output_type": "stream",
     "text": [
      "bc5cdr\n",
      "['I-Entity' 'O' 'B-Entity']\n",
      "['I-Entity' 'O' 'B-Entity']\n"
     ]
    },
    {
     "ename": "IndexingError",
     "evalue": "Unalignable boolean Series provided as indexer (index of the boolean Series and of the indexed object do not match).",
     "output_type": "error",
     "traceback": [
      "\u001b[1;31m---------------------------------------------------------------------------\u001b[0m",
      "\u001b[1;31mIndexingError\u001b[0m                             Traceback (most recent call last)",
      "Cell \u001b[1;32mIn[25], line 10\u001b[0m\n\u001b[0;32m      8\u001b[0m df \u001b[38;5;241m=\u001b[39m correctLabels(datasetName \u001b[38;5;241m=\u001b[39m dataset, modelName \u001b[38;5;241m=\u001b[39m model)\n\u001b[0;32m      9\u001b[0m \u001b[38;5;28;01mfor\u001b[39;00m metric \u001b[38;5;129;01min\u001b[39;00m metricList:\n\u001b[1;32m---> 10\u001b[0m     plot_metrics(df, model_name \u001b[38;5;241m=\u001b[39m model, dataset_name \u001b[38;5;241m=\u001b[39m dataset, metric \u001b[38;5;241m=\u001b[39m metric, show \u001b[38;5;241m=\u001b[39m \u001b[38;5;28;01mFalse\u001b[39;00m)\n",
      "File \u001b[1;32m~\\OneDrive\\Bureau\\ner-benchmark\\usefull.py:150\u001b[0m, in \u001b[0;36mplot_metrics\u001b[1;34m(df, model_name, dataset_name, metric, show)\u001b[0m\n\u001b[0;32m    148\u001b[0m \u001b[38;5;66;03m# Plotting the bar chart with seaborn\u001b[39;00m\n\u001b[0;32m    149\u001b[0m plt\u001b[38;5;241m.\u001b[39mfigure(figsize\u001b[38;5;241m=\u001b[39m(\u001b[38;5;241m10\u001b[39m, \u001b[38;5;241m6\u001b[39m))\n\u001b[1;32m--> 150\u001b[0m ax \u001b[38;5;241m=\u001b[39m sns\u001b[38;5;241m.\u001b[39mbarplot(x\u001b[38;5;241m=\u001b[39mmetric_columns, y\u001b[38;5;241m=\u001b[39mdf\u001b[38;5;241m.\u001b[39miloc[\u001b[38;5;241m0\u001b[39m][metric_columns], hue\u001b[38;5;241m=\u001b[39mmetric_columns, palette\u001b[38;5;241m=\u001b[39mcolors)\n\u001b[0;32m    152\u001b[0m \u001b[38;5;66;03m# Customize plot appearance\u001b[39;00m\n\u001b[0;32m    153\u001b[0m plt\u001b[38;5;241m.\u001b[39mtitle(\u001b[38;5;124mf\u001b[39m\u001b[38;5;124m'\u001b[39m\u001b[38;5;132;01m{\u001b[39;00mmodel_name\u001b[38;5;132;01m}\u001b[39;00m\u001b[38;5;124m \u001b[39m\u001b[38;5;132;01m{\u001b[39;00mmetric\u001b[38;5;132;01m}\u001b[39;00m\u001b[38;5;124m Comparison for \u001b[39m\u001b[38;5;132;01m{\u001b[39;00mdataset_name\u001b[38;5;132;01m}\u001b[39;00m\u001b[38;5;124m'\u001b[39m, fontsize\u001b[38;5;241m=\u001b[39m\u001b[38;5;241m16\u001b[39m)\n",
      "File \u001b[1;32m~\\anaconda3\\Lib\\site-packages\\seaborn\\categorical.py:2755\u001b[0m, in \u001b[0;36mbarplot\u001b[1;34m(data, x, y, hue, order, hue_order, estimator, errorbar, n_boot, units, seed, orient, color, palette, saturation, width, errcolor, errwidth, capsize, dodge, ci, ax, **kwargs)\u001b[0m\n\u001b[0;32m   2752\u001b[0m \u001b[38;5;28;01mif\u001b[39;00m estimator \u001b[38;5;129;01mis\u001b[39;00m \u001b[38;5;28mlen\u001b[39m:\n\u001b[0;32m   2753\u001b[0m     estimator \u001b[38;5;241m=\u001b[39m \u001b[38;5;124m\"\u001b[39m\u001b[38;5;124msize\u001b[39m\u001b[38;5;124m\"\u001b[39m\n\u001b[1;32m-> 2755\u001b[0m plotter \u001b[38;5;241m=\u001b[39m _BarPlotter(x, y, hue, data, order, hue_order,\n\u001b[0;32m   2756\u001b[0m                       estimator, errorbar, n_boot, units, seed,\n\u001b[0;32m   2757\u001b[0m                       orient, color, palette, saturation,\n\u001b[0;32m   2758\u001b[0m                       width, errcolor, errwidth, capsize, dodge)\n\u001b[0;32m   2760\u001b[0m \u001b[38;5;28;01mif\u001b[39;00m ax \u001b[38;5;129;01mis\u001b[39;00m \u001b[38;5;28;01mNone\u001b[39;00m:\n\u001b[0;32m   2761\u001b[0m     ax \u001b[38;5;241m=\u001b[39m plt\u001b[38;5;241m.\u001b[39mgca()\n",
      "File \u001b[1;32m~\\anaconda3\\Lib\\site-packages\\seaborn\\categorical.py:1533\u001b[0m, in \u001b[0;36m_BarPlotter.__init__\u001b[1;34m(self, x, y, hue, data, order, hue_order, estimator, errorbar, n_boot, units, seed, orient, color, palette, saturation, width, errcolor, errwidth, capsize, dodge)\u001b[0m\n\u001b[0;32m   1530\u001b[0m \u001b[38;5;28mself\u001b[39m\u001b[38;5;241m.\u001b[39mestablish_variables(x, y, hue, data, orient,\n\u001b[0;32m   1531\u001b[0m                          order, hue_order, units)\n\u001b[0;32m   1532\u001b[0m \u001b[38;5;28mself\u001b[39m\u001b[38;5;241m.\u001b[39mestablish_colors(color, palette, saturation)\n\u001b[1;32m-> 1533\u001b[0m \u001b[38;5;28mself\u001b[39m\u001b[38;5;241m.\u001b[39mestimate_statistic(estimator, errorbar, n_boot, seed)\n\u001b[0;32m   1535\u001b[0m \u001b[38;5;28mself\u001b[39m\u001b[38;5;241m.\u001b[39mdodge \u001b[38;5;241m=\u001b[39m dodge\n\u001b[0;32m   1536\u001b[0m \u001b[38;5;28mself\u001b[39m\u001b[38;5;241m.\u001b[39mwidth \u001b[38;5;241m=\u001b[39m width\n",
      "File \u001b[1;32m~\\anaconda3\\Lib\\site-packages\\seaborn\\categorical.py:1480\u001b[0m, in \u001b[0;36m_CategoricalStatPlotter.estimate_statistic\u001b[1;34m(self, estimator, errorbar, n_boot, seed)\u001b[0m\n\u001b[0;32m   1477\u001b[0m     \u001b[38;5;28;01mcontinue\u001b[39;00m\n\u001b[0;32m   1479\u001b[0m hue_mask \u001b[38;5;241m=\u001b[39m \u001b[38;5;28mself\u001b[39m\u001b[38;5;241m.\u001b[39mplot_hues[i] \u001b[38;5;241m==\u001b[39m hue_level\n\u001b[1;32m-> 1480\u001b[0m df \u001b[38;5;241m=\u001b[39m pd\u001b[38;5;241m.\u001b[39mDataFrame({var: group_data[hue_mask]})\n\u001b[0;32m   1481\u001b[0m \u001b[38;5;28;01mif\u001b[39;00m \u001b[38;5;28mself\u001b[39m\u001b[38;5;241m.\u001b[39mplot_units \u001b[38;5;129;01mis\u001b[39;00m \u001b[38;5;129;01mnot\u001b[39;00m \u001b[38;5;28;01mNone\u001b[39;00m:\n\u001b[0;32m   1482\u001b[0m     df[\u001b[38;5;124m\"\u001b[39m\u001b[38;5;124munits\u001b[39m\u001b[38;5;124m\"\u001b[39m] \u001b[38;5;241m=\u001b[39m \u001b[38;5;28mself\u001b[39m\u001b[38;5;241m.\u001b[39mplot_units[i][hue_mask]\n",
      "File \u001b[1;32m~\\anaconda3\\Lib\\site-packages\\pandas\\core\\series.py:1029\u001b[0m, in \u001b[0;36mSeries.__getitem__\u001b[1;34m(self, key)\u001b[0m\n\u001b[0;32m   1026\u001b[0m     key \u001b[38;5;241m=\u001b[39m \u001b[38;5;28mlist\u001b[39m(key)\n\u001b[0;32m   1028\u001b[0m \u001b[38;5;28;01mif\u001b[39;00m com\u001b[38;5;241m.\u001b[39mis_bool_indexer(key):\n\u001b[1;32m-> 1029\u001b[0m     key \u001b[38;5;241m=\u001b[39m check_bool_indexer(\u001b[38;5;28mself\u001b[39m\u001b[38;5;241m.\u001b[39mindex, key)\n\u001b[0;32m   1030\u001b[0m     key \u001b[38;5;241m=\u001b[39m np\u001b[38;5;241m.\u001b[39masarray(key, dtype\u001b[38;5;241m=\u001b[39m\u001b[38;5;28mbool\u001b[39m)\n\u001b[0;32m   1031\u001b[0m     \u001b[38;5;28;01mreturn\u001b[39;00m \u001b[38;5;28mself\u001b[39m\u001b[38;5;241m.\u001b[39m_get_values(key)\n",
      "File \u001b[1;32m~\\anaconda3\\Lib\\site-packages\\pandas\\core\\indexing.py:2506\u001b[0m, in \u001b[0;36mcheck_bool_indexer\u001b[1;34m(index, key)\u001b[0m\n\u001b[0;32m   2504\u001b[0m indexer \u001b[38;5;241m=\u001b[39m result\u001b[38;5;241m.\u001b[39mindex\u001b[38;5;241m.\u001b[39mget_indexer_for(index)\n\u001b[0;32m   2505\u001b[0m \u001b[38;5;28;01mif\u001b[39;00m \u001b[38;5;241m-\u001b[39m\u001b[38;5;241m1\u001b[39m \u001b[38;5;129;01min\u001b[39;00m indexer:\n\u001b[1;32m-> 2506\u001b[0m     \u001b[38;5;28;01mraise\u001b[39;00m IndexingError(\n\u001b[0;32m   2507\u001b[0m         \u001b[38;5;124m\"\u001b[39m\u001b[38;5;124mUnalignable boolean Series provided as \u001b[39m\u001b[38;5;124m\"\u001b[39m\n\u001b[0;32m   2508\u001b[0m         \u001b[38;5;124m\"\u001b[39m\u001b[38;5;124mindexer (index of the boolean Series and of \u001b[39m\u001b[38;5;124m\"\u001b[39m\n\u001b[0;32m   2509\u001b[0m         \u001b[38;5;124m\"\u001b[39m\u001b[38;5;124mthe indexed object do not match).\u001b[39m\u001b[38;5;124m\"\u001b[39m\n\u001b[0;32m   2510\u001b[0m     )\n\u001b[0;32m   2512\u001b[0m result \u001b[38;5;241m=\u001b[39m result\u001b[38;5;241m.\u001b[39mtake(indexer)\n\u001b[0;32m   2514\u001b[0m \u001b[38;5;66;03m# fall through for boolean\u001b[39;00m\n",
      "\u001b[1;31mIndexingError\u001b[0m: Unalignable boolean Series provided as indexer (index of the boolean Series and of the indexed object do not match)."
     ]
    },
    {
     "data": {
      "text/plain": [
       "<Figure size 1000x600 with 0 Axes>"
      ]
     },
     "metadata": {},
     "output_type": "display_data"
    }
   ],
   "source": [
    "import os\n",
    "from usefull import plot_metrics\n",
    "model_list = [\"Bio-bert-based\", \"bert-based\"]\n",
    "metricList = [\"accuracy\", \"recall\", \"f1_score\"]\n",
    "for dataset in os.listdir(\"datasets/\"):\n",
    "    print(dataset)\n",
    "    for model in model_list:\n",
    "        df = correctLabels(datasetName = dataset, modelName = model)\n",
    "        for metric in metricList:\n",
    "            plot_metrics(df, model_name = model, dataset_name = dataset, metric = metric, show = False)"
   ]
  }
 ],
 "metadata": {
  "kernelspec": {
   "display_name": "Python 3 (ipykernel)",
   "language": "python",
   "name": "python3"
  },
  "language_info": {
   "codemirror_mode": {
    "name": "ipython",
    "version": 3
   },
   "file_extension": ".py",
   "mimetype": "text/x-python",
   "name": "python",
   "nbconvert_exporter": "python",
   "pygments_lexer": "ipython3",
   "version": "3.11.5"
  }
 },
 "nbformat": 4,
 "nbformat_minor": 5
}
