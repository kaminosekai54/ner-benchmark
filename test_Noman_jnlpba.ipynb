{
 "cells": [
  {
   "cell_type": "code",
   "execution_count": 1,
   "id": "6e8a1815",
   "metadata": {},
   "outputs": [
    {
     "name": "stdout",
     "output_type": "stream",
     "text": [
      "             words     labels\n",
      "0        High-dose          O\n",
      "1           growth          O\n",
      "2          hormone          O\n",
      "3             does          O\n",
      "4              not          O\n",
      "5           affect          O\n",
      "6  proinflammatory  B-protein\n",
      "7         cytokine  I-protein\n",
      "8                (          O\n",
      "9            tumor  B-protein\n",
      "             words     labels\n",
      "0        High-dose          O\n",
      "1           growth          O\n",
      "2          hormone          O\n",
      "3             does          O\n",
      "4              not          O\n",
      "5           affect          O\n",
      "6  proinflammatory  B-protein\n",
      "7         cytokine  B-protein\n",
      "8                (          O\n",
      "9            tumor          O\n"
     ]
    }
   ],
   "source": [
    "import pandas as pd\n",
    "from sklearn.metrics import f1_score, confusion_matrix, classification_report,accuracy_score,roc_curve\n",
    "\n",
    "df1 = pd.read_csv(\"datasets/jnlpba/test.tsv\", sep = '\\t', names = [\"words\", \"labels\"])\n",
    "print(df1.head(10))\n",
    "\n",
    "df2 = pd.read_csv(\"results/jnlpba/jnlpba_Bio-bert-based_predictions.csv\", sep = ',')\n",
    "print(df2.head(10))\n",
    "\n",
    "import warnings\n",
    "warnings.filterwarnings('ignore')"
   ]
  },
  {
   "cell_type": "code",
   "execution_count": 2,
   "id": "1c454550",
   "metadata": {},
   "outputs": [
    {
     "data": {
      "text/html": [
       "<div>\n",
       "<style scoped>\n",
       "    .dataframe tbody tr th:only-of-type {\n",
       "        vertical-align: middle;\n",
       "    }\n",
       "\n",
       "    .dataframe tbody tr th {\n",
       "        vertical-align: top;\n",
       "    }\n",
       "\n",
       "    .dataframe thead th {\n",
       "        text-align: right;\n",
       "    }\n",
       "</style>\n",
       "<table border=\"1\" class=\"dataframe\">\n",
       "  <thead>\n",
       "    <tr style=\"text-align: right;\">\n",
       "      <th></th>\n",
       "      <th>words</th>\n",
       "      <th>labels</th>\n",
       "    </tr>\n",
       "  </thead>\n",
       "  <tbody>\n",
       "    <tr>\n",
       "      <th>count</th>\n",
       "      <td>2800</td>\n",
       "      <td>2800</td>\n",
       "    </tr>\n",
       "    <tr>\n",
       "      <th>unique</th>\n",
       "      <td>935</td>\n",
       "      <td>11</td>\n",
       "    </tr>\n",
       "    <tr>\n",
       "      <th>top</th>\n",
       "      <td>.</td>\n",
       "      <td>O</td>\n",
       "    </tr>\n",
       "    <tr>\n",
       "      <th>freq</th>\n",
       "      <td>104</td>\n",
       "      <td>2319</td>\n",
       "    </tr>\n",
       "  </tbody>\n",
       "</table>\n",
       "</div>"
      ],
      "text/plain": [
       "       words labels\n",
       "count   2800   2800\n",
       "unique   935     11\n",
       "top        .      O\n",
       "freq     104   2319"
      ]
     },
     "execution_count": 2,
     "metadata": {},
     "output_type": "execute_result"
    }
   ],
   "source": [
    "df1.describe()"
   ]
  },
  {
   "cell_type": "code",
   "execution_count": 3,
   "id": "3b8ea922",
   "metadata": {},
   "outputs": [
    {
     "data": {
      "text/html": [
       "<div>\n",
       "<style scoped>\n",
       "    .dataframe tbody tr th:only-of-type {\n",
       "        vertical-align: middle;\n",
       "    }\n",
       "\n",
       "    .dataframe tbody tr th {\n",
       "        vertical-align: top;\n",
       "    }\n",
       "\n",
       "    .dataframe thead th {\n",
       "        text-align: right;\n",
       "    }\n",
       "</style>\n",
       "<table border=\"1\" class=\"dataframe\">\n",
       "  <thead>\n",
       "    <tr style=\"text-align: right;\">\n",
       "      <th></th>\n",
       "      <th>words</th>\n",
       "      <th>labels</th>\n",
       "    </tr>\n",
       "  </thead>\n",
       "  <tbody>\n",
       "    <tr>\n",
       "      <th>count</th>\n",
       "      <td>2800</td>\n",
       "      <td>2800</td>\n",
       "    </tr>\n",
       "    <tr>\n",
       "      <th>unique</th>\n",
       "      <td>935</td>\n",
       "      <td>8</td>\n",
       "    </tr>\n",
       "    <tr>\n",
       "      <th>top</th>\n",
       "      <td>.</td>\n",
       "      <td>O</td>\n",
       "    </tr>\n",
       "    <tr>\n",
       "      <th>freq</th>\n",
       "      <td>104</td>\n",
       "      <td>2581</td>\n",
       "    </tr>\n",
       "  </tbody>\n",
       "</table>\n",
       "</div>"
      ],
      "text/plain": [
       "       words labels\n",
       "count   2800   2800\n",
       "unique   935      8\n",
       "top        .      O\n",
       "freq     104   2581"
      ]
     },
     "execution_count": 3,
     "metadata": {},
     "output_type": "execute_result"
    }
   ],
   "source": [
    "df2.describe()"
   ]
  },
  {
   "cell_type": "code",
   "execution_count": 4,
   "id": "c2196836",
   "metadata": {},
   "outputs": [
    {
     "data": {
      "text/plain": [
       "words     0.0\n",
       "labels    0.0\n",
       "dtype: float64"
      ]
     },
     "execution_count": 4,
     "metadata": {},
     "output_type": "execute_result"
    }
   ],
   "source": [
    "df1.describe()\n",
    "(df1.isna().sum()/df1.shape[0]).sort_values(ascending=True)"
   ]
  },
  {
   "cell_type": "code",
   "execution_count": 5,
   "id": "60f65586",
   "metadata": {},
   "outputs": [
    {
     "data": {
      "text/plain": [
       "words     0.0\n",
       "labels    0.0\n",
       "dtype: float64"
      ]
     },
     "execution_count": 5,
     "metadata": {},
     "output_type": "execute_result"
    }
   ],
   "source": [
    "df2.describe()\n",
    "(df2.isna().sum()/df2.shape[0]).sort_values(ascending=True)"
   ]
  },
  {
   "cell_type": "code",
   "execution_count": 6,
   "id": "5af3f7a5",
   "metadata": {},
   "outputs": [
    {
     "data": {
      "text/plain": [
       "0          O\n",
       "1          O\n",
       "2          O\n",
       "3          O\n",
       "4          O\n",
       "5          O\n",
       "6    protein\n",
       "7    protein\n",
       "8          O\n",
       "9    protein\n",
       "Name: labels, dtype: object"
      ]
     },
     "execution_count": 6,
     "metadata": {},
     "output_type": "execute_result"
    }
   ],
   "source": [
    "df1.labels = df1.labels.str.replace(\"I-\", \"\", case = False).str.replace(\"B-\", \"\", case = False)\n",
    "df1.labels.head(10)"
   ]
  },
  {
   "cell_type": "code",
   "execution_count": 7,
   "id": "1cce0cd3",
   "metadata": {},
   "outputs": [
    {
     "data": {
      "text/html": [
       "<div>\n",
       "<style scoped>\n",
       "    .dataframe tbody tr th:only-of-type {\n",
       "        vertical-align: middle;\n",
       "    }\n",
       "\n",
       "    .dataframe tbody tr th {\n",
       "        vertical-align: top;\n",
       "    }\n",
       "\n",
       "    .dataframe thead th {\n",
       "        text-align: right;\n",
       "    }\n",
       "</style>\n",
       "<table border=\"1\" class=\"dataframe\">\n",
       "  <thead>\n",
       "    <tr style=\"text-align: right;\">\n",
       "      <th></th>\n",
       "      <th>words</th>\n",
       "      <th>labels</th>\n",
       "    </tr>\n",
       "  </thead>\n",
       "  <tbody>\n",
       "    <tr>\n",
       "      <th>0</th>\n",
       "      <td>High-dose</td>\n",
       "      <td>O</td>\n",
       "    </tr>\n",
       "    <tr>\n",
       "      <th>1</th>\n",
       "      <td>growth</td>\n",
       "      <td>O</td>\n",
       "    </tr>\n",
       "    <tr>\n",
       "      <th>2</th>\n",
       "      <td>hormone</td>\n",
       "      <td>O</td>\n",
       "    </tr>\n",
       "    <tr>\n",
       "      <th>3</th>\n",
       "      <td>does</td>\n",
       "      <td>O</td>\n",
       "    </tr>\n",
       "    <tr>\n",
       "      <th>4</th>\n",
       "      <td>not</td>\n",
       "      <td>O</td>\n",
       "    </tr>\n",
       "    <tr>\n",
       "      <th>5</th>\n",
       "      <td>affect</td>\n",
       "      <td>O</td>\n",
       "    </tr>\n",
       "    <tr>\n",
       "      <th>6</th>\n",
       "      <td>proinflammatory</td>\n",
       "      <td>protein</td>\n",
       "    </tr>\n",
       "    <tr>\n",
       "      <th>7</th>\n",
       "      <td>cytokine</td>\n",
       "      <td>protein</td>\n",
       "    </tr>\n",
       "    <tr>\n",
       "      <th>8</th>\n",
       "      <td>(</td>\n",
       "      <td>O</td>\n",
       "    </tr>\n",
       "    <tr>\n",
       "      <th>9</th>\n",
       "      <td>tumor</td>\n",
       "      <td>protein</td>\n",
       "    </tr>\n",
       "  </tbody>\n",
       "</table>\n",
       "</div>"
      ],
      "text/plain": [
       "             words   labels\n",
       "0        High-dose        O\n",
       "1           growth        O\n",
       "2          hormone        O\n",
       "3             does        O\n",
       "4              not        O\n",
       "5           affect        O\n",
       "6  proinflammatory  protein\n",
       "7         cytokine  protein\n",
       "8                (        O\n",
       "9            tumor  protein"
      ]
     },
     "execution_count": 7,
     "metadata": {},
     "output_type": "execute_result"
    }
   ],
   "source": [
    "df1.head(10)"
   ]
  },
  {
   "cell_type": "code",
   "execution_count": 8,
   "id": "1a20db84",
   "metadata": {},
   "outputs": [
    {
     "data": {
      "text/plain": [
       "0          O\n",
       "1          O\n",
       "2          O\n",
       "3          O\n",
       "4          O\n",
       "5          O\n",
       "6    protein\n",
       "7    protein\n",
       "8          O\n",
       "9          O\n",
       "Name: labels, dtype: object"
      ]
     },
     "execution_count": 8,
     "metadata": {},
     "output_type": "execute_result"
    }
   ],
   "source": [
    "df2.labels = df2.labels.str.replace(\"I-\", \"\", case = False).str.replace(\"B-\", \"\", case = False)\n",
    "df2.labels.head(10)"
   ]
  },
  {
   "cell_type": "code",
   "execution_count": 9,
   "id": "79910524",
   "metadata": {},
   "outputs": [
    {
     "data": {
      "text/html": [
       "<div>\n",
       "<style scoped>\n",
       "    .dataframe tbody tr th:only-of-type {\n",
       "        vertical-align: middle;\n",
       "    }\n",
       "\n",
       "    .dataframe tbody tr th {\n",
       "        vertical-align: top;\n",
       "    }\n",
       "\n",
       "    .dataframe thead th {\n",
       "        text-align: right;\n",
       "    }\n",
       "</style>\n",
       "<table border=\"1\" class=\"dataframe\">\n",
       "  <thead>\n",
       "    <tr style=\"text-align: right;\">\n",
       "      <th></th>\n",
       "      <th>words</th>\n",
       "      <th>labels</th>\n",
       "    </tr>\n",
       "  </thead>\n",
       "  <tbody>\n",
       "    <tr>\n",
       "      <th>0</th>\n",
       "      <td>High-dose</td>\n",
       "      <td>O</td>\n",
       "    </tr>\n",
       "    <tr>\n",
       "      <th>1</th>\n",
       "      <td>growth</td>\n",
       "      <td>O</td>\n",
       "    </tr>\n",
       "    <tr>\n",
       "      <th>2</th>\n",
       "      <td>hormone</td>\n",
       "      <td>O</td>\n",
       "    </tr>\n",
       "    <tr>\n",
       "      <th>3</th>\n",
       "      <td>does</td>\n",
       "      <td>O</td>\n",
       "    </tr>\n",
       "    <tr>\n",
       "      <th>4</th>\n",
       "      <td>not</td>\n",
       "      <td>O</td>\n",
       "    </tr>\n",
       "    <tr>\n",
       "      <th>5</th>\n",
       "      <td>affect</td>\n",
       "      <td>O</td>\n",
       "    </tr>\n",
       "    <tr>\n",
       "      <th>6</th>\n",
       "      <td>proinflammatory</td>\n",
       "      <td>protein</td>\n",
       "    </tr>\n",
       "    <tr>\n",
       "      <th>7</th>\n",
       "      <td>cytokine</td>\n",
       "      <td>protein</td>\n",
       "    </tr>\n",
       "    <tr>\n",
       "      <th>8</th>\n",
       "      <td>(</td>\n",
       "      <td>O</td>\n",
       "    </tr>\n",
       "    <tr>\n",
       "      <th>9</th>\n",
       "      <td>tumor</td>\n",
       "      <td>O</td>\n",
       "    </tr>\n",
       "  </tbody>\n",
       "</table>\n",
       "</div>"
      ],
      "text/plain": [
       "             words   labels\n",
       "0        High-dose        O\n",
       "1           growth        O\n",
       "2          hormone        O\n",
       "3             does        O\n",
       "4              not        O\n",
       "5           affect        O\n",
       "6  proinflammatory  protein\n",
       "7         cytokine  protein\n",
       "8                (        O\n",
       "9            tumor        O"
      ]
     },
     "execution_count": 9,
     "metadata": {},
     "output_type": "execute_result"
    }
   ],
   "source": [
    "df2.head(10)"
   ]
  },
  {
   "cell_type": "code",
   "execution_count": 10,
   "id": "f0994b6f",
   "metadata": {},
   "outputs": [
    {
     "name": "stdout",
     "output_type": "stream",
     "text": [
      "['O', 'protein', 'cell_type', 'DNA', 'cell_line', 'RNA']\n"
     ]
    }
   ],
   "source": [
    "custom_labels1 = list(df1.labels.unique()) \n",
    "print(custom_labels1)"
   ]
  },
  {
   "cell_type": "code",
   "execution_count": 11,
   "id": "016a880b",
   "metadata": {},
   "outputs": [
    {
     "name": "stdout",
     "output_type": "stream",
     "text": [
      "['O', 'protein', 'cell_type', 'DNA', 'RNA', 'cell_line']\n"
     ]
    }
   ],
   "source": [
    "custom_labels2 = list(df2.labels.unique()) \n",
    "print(custom_labels2)"
   ]
  },
  {
   "cell_type": "code",
   "execution_count": 12,
   "id": "6669d85c",
   "metadata": {},
   "outputs": [
    {
     "name": "stdout",
     "output_type": "stream",
     "text": [
      "['protein', 'RNA', 'cell_line', 'DNA', 'O', 'cell_type']\n"
     ]
    }
   ],
   "source": [
    "custom_labels_finale = list(set(custom_labels1 + custom_labels2))\n",
    "print(custom_labels_finale)"
   ]
  },
  {
   "cell_type": "code",
   "execution_count": 15,
   "id": "c4ec19c6",
   "metadata": {},
   "outputs": [
    {
     "name": "stdout",
     "output_type": "stream",
     "text": [
      "{'protein': {'precision': 0.6459627329192547, 'recall': 0.3781818181818182, 'f1-score': 0.47706422018348615, 'support': 275.0}, 'RNA': {'precision': 0.6666666666666666, 'recall': 0.14634146341463414, 'f1-score': 0.24, 'support': 41.0}, 'cell_line': {'precision': 0.0, 'recall': 0.0, 'f1-score': 0.0, 'support': 8.0}, 'DNA': {'precision': 0.0, 'recall': 0.0, 'f1-score': 0.0, 'support': 15.0}, 'O': {'precision': 0.8810538550949244, 'recall': 0.9805950840879689, 'f1-score': 0.9281632653061224, 'support': 2319.0}, 'cell_type': {'precision': 0.8888888888888888, 'recall': 0.22535211267605634, 'f1-score': 0.35955056179775285, 'support': 142.0}, 'accuracy': 0.8628571428571429, 'macro avg': {'precision': 0.5137620239282891, 'recall': 0.28841174639341294, 'f1-score': 0.3341296745478936, 'support': 2800.0}, 'weighted avg': {'precision': 0.847985427526243, 'recall': 0.8628571428571429, 'f1-score': 0.837321233060942, 'support': 2800.0}}\n"
     ]
    }
   ],
   "source": [
    "report = classification_report(df1['labels'], df2.labels, labels = custom_labels_finale, target_names = custom_labels_finale, output_dict = True)\n",
    "print(report)"
   ]
  },
  {
   "cell_type": "code",
   "execution_count": 17,
   "id": "44472251",
   "metadata": {},
   "outputs": [],
   "source": [
    "datasetName = 'jnlpba'\n",
    "modelName = 'Bio-bert-based'\n",
    "\n",
    "data = {\n",
    "        \"Bio-bert-based\": [modelName ],\n",
    "        \"jnlpba\": [datasetName],\n",
    "        \"accuracy_global\": [round(report['weighted avg']['precision']*100, 2)],\n",
    "        \"recall_global\": [round(report['weighted avg']['recall']*100, 2)],\n",
    "        \"f1_score_global\": [round(report['weighted avg']['f1-score'] *100, 2)]\n",
    "    }\n",
    "for label in custom_labels_finale:\n",
    "        data[f\"accuracy_{label}\"] = [round(report[label]['precision']*100, 2)]\n",
    "        data[f\"recall_{label}\"] = [round(report[label]['recall']*100, 2)]\n",
    "        data[f\"f1_score_{label}\"] = [round(report[label]['f1-score']*100, 2)]\n",
    "\n",
    "df = pd.DataFrame(data)\n",
    "df.to_csv(f'results/{datasetName}/{datasetName}_{modelName }_corrected.csv', sep=\",\", index=False)"
   ]
  },
  {
   "cell_type": "code",
   "execution_count": null,
   "id": "58ffdb5c",
   "metadata": {},
   "outputs": [],
   "source": []
  }
 ],
 "metadata": {
  "kernelspec": {
   "display_name": "Python 3 (ipykernel)",
   "language": "python",
   "name": "python3"
  },
  "language_info": {
   "codemirror_mode": {
    "name": "ipython",
    "version": 3
   },
   "file_extension": ".py",
   "mimetype": "text/x-python",
   "name": "python",
   "nbconvert_exporter": "python",
   "pygments_lexer": "ipython3",
   "version": "3.11.5"
  }
 },
 "nbformat": 4,
 "nbformat_minor": 5
}
